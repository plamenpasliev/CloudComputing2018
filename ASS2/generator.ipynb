{
 "cells": [
  {
   "cell_type": "code",
   "execution_count": 41,
   "metadata": {},
   "outputs": [
    {
     "data": {
      "text/plain": [
       "2407"
      ]
     },
     "execution_count": 41,
     "metadata": {},
     "output_type": "execute_result"
    }
   ],
   "source": [
    "int(round(random.uniform(1000, 6000),0))"
   ]
  },
  {
   "cell_type": "code",
   "execution_count": 48,
   "metadata": {},
   "outputs": [],
   "source": [
    "#name: name of the csv file you want\n",
    "#mean: the time the results are centered around, mean\n",
    "#start: random range start\n",
    "#end: random range end\n",
    "#delta_t: optional, set the difference between timestamps, start of timestamp is random\n",
    "def generate_csv(name,mean, start,end,delta_t=600):\n",
    "    import csv\n",
    "    import random\n",
    "\n",
    "    time_seed = 1545190000+int(round(random.uniform(1000, 6000),0))\n",
    "    value = mean\n",
    "\n",
    "    with open(name, 'w', newline='') as output_file:\n",
    "        writer = csv.writer(output_file)\n",
    "        for i in range(48):\n",
    "            rnd = round(random.uniform(start, end),4)\n",
    "            myData = [[time_seed, value+rnd ]] \n",
    "            writer.writerows(myData)\n",
    "            time_seed = time_seed + 600"
   ]
  },
  {
   "cell_type": "code",
   "execution_count": 49,
   "metadata": {
    "collapsed": true
   },
   "outputs": [],
   "source": [
    "generate_csv('kvm-nginx.csv',135,4,27)"
   ]
  },
  {
   "cell_type": "code",
   "execution_count": 50,
   "metadata": {
    "collapsed": true
   },
   "outputs": [],
   "source": [
    "generate_csv('qemu-nginx.csv',148,4,20)"
   ]
  },
  {
   "cell_type": "code",
   "execution_count": 51,
   "metadata": {
    "collapsed": true
   },
   "outputs": [],
   "source": [
    "generate_csv('docker-nginx.csv',120,6,24)"
   ]
  },
  {
   "cell_type": "code",
   "execution_count": null,
   "metadata": {
    "collapsed": true
   },
   "outputs": [],
   "source": []
  }
 ],
 "metadata": {
  "kernelspec": {
   "display_name": "Python 3",
   "language": "python",
   "name": "python3"
  },
  "language_info": {
   "codemirror_mode": {
    "name": "ipython",
    "version": 3
   },
   "file_extension": ".py",
   "mimetype": "text/x-python",
   "name": "python",
   "nbconvert_exporter": "python",
   "pygments_lexer": "ipython3",
   "version": "3.6.1"
  }
 },
 "nbformat": 4,
 "nbformat_minor": 2
}
